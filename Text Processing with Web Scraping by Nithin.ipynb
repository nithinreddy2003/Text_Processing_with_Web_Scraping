{
 "cells": [
  {
   "cell_type": "code",
   "execution_count": 1,
   "id": "113f2f8c",
   "metadata": {},
   "outputs": [
    {
     "name": "stdout",
     "output_type": "stream",
     "text": [
      "Collecting sumy\n",
      "  Downloading sumy-0.11.0-py2.py3-none-any.whl (97 kB)\n",
      "Collecting docopt<0.7,>=0.6.1\n",
      "  Downloading docopt-0.6.2.tar.gz (25 kB)\n",
      "Requirement already satisfied: nltk>=3.0.2 in c:\\users\\91630\\anaconda3\\lib\\site-packages (from sumy) (3.7)\n",
      "Collecting breadability>=0.1.20\n",
      "  Downloading breadability-0.1.20.tar.gz (32 kB)\n",
      "Requirement already satisfied: requests>=2.7.0 in c:\\users\\91630\\anaconda3\\lib\\site-packages (from sumy) (2.27.1)\n",
      "Collecting pycountry>=18.2.23\n",
      "  Downloading pycountry-22.3.5.tar.gz (10.1 MB)\n",
      "  Installing build dependencies: started\n",
      "  Installing build dependencies: finished with status 'done'\n",
      "  Getting requirements to build wheel: started\n",
      "  Getting requirements to build wheel: finished with status 'done'\n",
      "    Preparing wheel metadata: started\n",
      "    Preparing wheel metadata: finished with status 'done'\n",
      "Requirement already satisfied: chardet in c:\\users\\91630\\anaconda3\\lib\\site-packages (from breadability>=0.1.20->sumy) (4.0.0)\n",
      "Requirement already satisfied: lxml>=2.0 in c:\\users\\91630\\anaconda3\\lib\\site-packages (from breadability>=0.1.20->sumy) (4.8.0)\n",
      "Requirement already satisfied: click in c:\\users\\91630\\anaconda3\\lib\\site-packages (from nltk>=3.0.2->sumy) (8.0.4)\n",
      "Requirement already satisfied: joblib in c:\\users\\91630\\anaconda3\\lib\\site-packages (from nltk>=3.0.2->sumy) (1.1.0)\n",
      "Requirement already satisfied: regex>=2021.8.3 in c:\\users\\91630\\anaconda3\\lib\\site-packages (from nltk>=3.0.2->sumy) (2022.3.15)\n",
      "Requirement already satisfied: tqdm in c:\\users\\91630\\anaconda3\\lib\\site-packages (from nltk>=3.0.2->sumy) (4.64.0)\n",
      "Requirement already satisfied: setuptools in c:\\users\\91630\\anaconda3\\lib\\site-packages (from pycountry>=18.2.23->sumy) (61.2.0)\n",
      "Requirement already satisfied: urllib3<1.27,>=1.21.1 in c:\\users\\91630\\anaconda3\\lib\\site-packages (from requests>=2.7.0->sumy) (1.26.9)\n",
      "Requirement already satisfied: certifi>=2017.4.17 in c:\\users\\91630\\anaconda3\\lib\\site-packages (from requests>=2.7.0->sumy) (2021.10.8)\n",
      "Requirement already satisfied: charset-normalizer~=2.0.0 in c:\\users\\91630\\anaconda3\\lib\\site-packages (from requests>=2.7.0->sumy) (2.0.4)\n",
      "Requirement already satisfied: idna<4,>=2.5 in c:\\users\\91630\\anaconda3\\lib\\site-packages (from requests>=2.7.0->sumy) (3.3)\n",
      "Requirement already satisfied: colorama in c:\\users\\91630\\anaconda3\\lib\\site-packages (from click->nltk>=3.0.2->sumy) (0.4.4)\n",
      "Building wheels for collected packages: breadability, docopt, pycountry\n",
      "  Building wheel for breadability (setup.py): started\n",
      "  Building wheel for breadability (setup.py): finished with status 'done'\n",
      "  Created wheel for breadability: filename=breadability-0.1.20-py2.py3-none-any.whl size=21712 sha256=262916ba3e35d7fc8058c0ec655898fe61e4cdb1765b3f8143b5078af9c30a47\n",
      "  Stored in directory: c:\\users\\91630\\appdata\\local\\pip\\cache\\wheels\\ba\\9f\\70\\7795228568b81b57a8932755938da9fb1f291b0576752604aa\n",
      "  Building wheel for docopt (setup.py): started\n",
      "  Building wheel for docopt (setup.py): finished with status 'done'\n",
      "  Created wheel for docopt: filename=docopt-0.6.2-py2.py3-none-any.whl size=13723 sha256=11c91490319629b276de4d3e00f7205ccca7401992bddf1064abe7050c34cdbf\n",
      "  Stored in directory: c:\\users\\91630\\appdata\\local\\pip\\cache\\wheels\\70\\4a\\46\\1309fc853b8d395e60bafaf1b6df7845bdd82c95fd59dd8d2b\n",
      "  Building wheel for pycountry (PEP 517): started\n",
      "  Building wheel for pycountry (PEP 517): finished with status 'done'\n",
      "  Created wheel for pycountry: filename=pycountry-22.3.5-py2.py3-none-any.whl size=10681895 sha256=784ef9c585ee30e6c853b2351e899c6d07329c358e4182fd0230de2960b796ca\n",
      "  Stored in directory: c:\\users\\91630\\appdata\\local\\pip\\cache\\wheels\\47\\15\\92\\e6dc85fcb0686c82e1edbcfdf80cfe4808c058813fed0baa8f\n",
      "Successfully built breadability docopt pycountry\n",
      "Installing collected packages: docopt, pycountry, breadability, sumy\n",
      "Successfully installed breadability-0.1.20 docopt-0.6.2 pycountry-22.3.5 sumy-0.11.0\n"
     ]
    }
   ],
   "source": [
    "!pip install sumy"
   ]
  },
  {
   "cell_type": "code",
   "execution_count": 2,
   "id": "757d7f43",
   "metadata": {},
   "outputs": [
    {
     "name": "stdout",
     "output_type": "stream",
     "text": [
      "Collecting reportlab\n",
      "  Downloading reportlab-4.0.5-py3-none-any.whl (1.9 MB)\n",
      "Requirement already satisfied: pillow>=9.0.0 in c:\\users\\91630\\anaconda3\\lib\\site-packages (from reportlab) (9.0.1)\n",
      "Installing collected packages: reportlab\n",
      "Successfully installed reportlab-4.0.5\n"
     ]
    }
   ],
   "source": [
    "!pip install reportlab"
   ]
  },
  {
   "cell_type": "code",
   "execution_count": 4,
   "id": "07f55c98",
   "metadata": {},
   "outputs": [],
   "source": [
    "import requests                           #used to make HTTP requests to the specified URL and retrieve the webpage content.\n",
    "\n",
    "from bs4 import BeautifulSoup             # parse and navigate HTML or XML content for web scraping purposes in Python.\n",
    "import nltk                               #NLTK helps analyze and process human language data using Python.\n",
    "import re                                 #re is used to clean the text\n",
    "\n",
    "#The mentioned lines import necessary components for text summarization using Latent Semantic Analysis (LSA) \n",
    "#through the sumy library.\n",
    "from sumy.parsers.plaintext import PlaintextParser  #used to create a parser for plain text \n",
    "\n",
    "from sumy.nlp.tokenizers import Tokenizer           #used to tokenize text for text summarization\n",
    "from sumy.nlp.stemmers import Stemmer               # used to perform stemming on text for text summarization\n",
    "from sumy.utils import get_stop_words               #used to retrieve stop words for text summarization\n",
    "from sumy.summarizers.lsa import LsaSummarizer      #used for Latent Semantic Analysis (LSA) based text summarization "
   ]
  },
  {
   "cell_type": "code",
   "execution_count": 5,
   "id": "979421f0",
   "metadata": {},
   "outputs": [
    {
     "name": "stderr",
     "output_type": "stream",
     "text": [
      "[nltk_data] Downloading package punkt to\n",
      "[nltk_data]     C:\\Users\\91630\\AppData\\Roaming\\nltk_data...\n",
      "[nltk_data]   Package punkt is already up-to-date!\n"
     ]
    },
    {
     "data": {
      "text/plain": [
       "True"
      ]
     },
     "execution_count": 5,
     "metadata": {},
     "output_type": "execute_result"
    }
   ],
   "source": [
    "# Download NLTK punkt tokenizer\n",
    "nltk.download('punkt')"
   ]
  },
  {
   "cell_type": "code",
   "execution_count": 6,
   "id": "bd514d19",
   "metadata": {},
   "outputs": [],
   "source": [
    "# Function to clean the text\n",
    "def clean_text(text):\n",
    "    # Remove numbers, spaces, symbols, and brackets\n",
    "    cleaned_text = re.sub(r'\\d', '', text)                   # Remove numbers\n",
    "    cleaned_text = re.sub(r'\\s+', ' ', cleaned_text)         # Remove extra spaces\n",
    "    cleaned_text = re.sub(r'\\([^)]*\\)', '', cleaned_text)    # Remove content between parentheses\n",
    "    cleaned_text = re.sub(r'[^\\w\\s]', '', cleaned_text)      # Remove symbols and brackets\n",
    "    return cleaned_text.strip()"
   ]
  },
  {
   "cell_type": "code",
   "execution_count": 7,
   "id": "e0e508d2",
   "metadata": {},
   "outputs": [],
   "source": [
    "# Function to summarize text using extractive summarization\n",
    "def summarize_text(text):\n",
    "    cleaned_text = clean_text(text)                                          # Clean the input text\n",
    "    \n",
    "    parser = PlaintextParser.from_string(cleaned_text, Tokenizer('english')) # Create a parser for the cleaned text\n",
    "    \n",
    "    stemmer = Stemmer('english')                                  # Initialize a stemmer for English\n",
    "    summarizer = LsaSummarizer(stemmer)                           # Initialize an LSA summarizer using the stemmer\n",
    "    summarizer.stop_words = get_stop_words('english')             # Set stop words for the summarizer\n",
    "    summary = summarizer(parser.document, 2)                      # Adjust the number of sentences in the summary as needed\n",
    "    return ' '.join([str(sentence) for sentence in summary])      # Join the summary sentences and return"
   ]
  },
  {
   "cell_type": "code",
   "execution_count": 8,
   "id": "d21d2fb2",
   "metadata": {},
   "outputs": [],
   "source": [
    "# Wikipedia URL to scrape\n",
    "url = \"https://en.wikipedia.org/wiki/Alexander_the_Great\""
   ]
  },
  {
   "cell_type": "code",
   "execution_count": 9,
   "id": "5a70bfa6",
   "metadata": {},
   "outputs": [],
   "source": [
    "# Send a request and get the webpage content\n",
    "response = requests.get(url)                       #send get request to the url and store it to response\n",
    "soup = BeautifulSoup(response.text, 'html.parser') #Break down the webpage's structure and understand its components "
   ]
  },
  {
   "cell_type": "code",
   "execution_count": 10,
   "id": "7956befa",
   "metadata": {},
   "outputs": [],
   "source": [
    "# Extract all headings and content\n",
    "#Extract the text content from each found heading and store it in a list called headings.\n",
    "headings = [heading.text for heading in soup.find_all(['h1', 'h2', 'h3', 'h4', 'h5', 'h6'])]"
   ]
  },
  {
   "cell_type": "code",
   "execution_count": 11,
   "id": "2802208e",
   "metadata": {},
   "outputs": [],
   "source": [
    "# Clean the headings by removing content between parentheses\n",
    "cleaned_headings = [re.sub(r'\\([^)]*\\)', '', heading).strip() for heading in headings]\n",
    "content = [p.text for p in soup.find_all(['p'])]        # Extract text from paragraphs"
   ]
  },
  {
   "cell_type": "code",
   "execution_count": 12,
   "id": "02efc328",
   "metadata": {},
   "outputs": [],
   "source": [
    "# Generate summaries for each section\n",
    "section_summaries = [summarize_text(section_content) for section_content in content]"
   ]
  },
  {
   "cell_type": "code",
   "execution_count": 13,
   "id": "db10f883",
   "metadata": {},
   "outputs": [],
   "source": [
    "# Combine headings and summaries\n",
    "section_headings_and_summaries = dict(zip(cleaned_headings, section_summaries))"
   ]
  },
  {
   "cell_type": "code",
   "execution_count": 14,
   "id": "0b9fbd4b",
   "metadata": {},
   "outputs": [
    {
     "name": "stdout",
     "output_type": "stream",
     "text": [
      "\u001b[1mContents\u001b[0m\n",
      "\n",
      "\n",
      "\u001b[1mAlexander the Great\u001b[0m\n",
      "Alexander III of Macedon  commonly known as Alexander the Greata was a king of the ancient Greek kingdom of Macedona He succeeded his father Philip II to the throne in BC at the age of  and spent most of his ruling years conducting a lengthy military campaign throughout Western Asia and Egypt By the age of  he had created one of the largest empires in history stretching from Greece to northwestern India He was undefeated in battle and is widely considered to be one of historys greatest and most successful military commanders\n",
      "\n",
      "\u001b[1mEarly life\u001b[0m\n",
      "Until the age of  Alexander was tutored by Aristotle In BC shortly after his assumption of kingship over Macedon he campaigned in the Balkans and reasserted control over Thrace and parts of Illyria before marching on the city of Thebes which was subsequently destroyed in battle Alexander then led the League of Corinth and used his authority to launch the panHellenic project envisaged by his father assuming leadership over all Greeks in their conquest of Persia\n",
      "\n",
      "\u001b[1mLineage and childhood\u001b[0m\n",
      "In BC he invaded the Achaemenid Persian Empire and began a series of campaigns that lasted for years Following his conquest of Asia Minor Alexander broke the power of Achaemenid Persia in a series of decisive battles including those at Issus and Gaugamela he subsequently overthrew Darius III and conquered the Achaemenid Empire in its entiretyb After the fall of Persia the Macedonian Empire held a vast swath of territory between the Adriatic Sea and the Indus River Alexander endeavored to reach the ends of the world and the Great Outer Sea and invaded India in BC achieving an important victory over Porus an ancient Indian king of presentday Punjab at the Battle of the Hydaspes Due to the demand of his homesick troops he eventually turned back at the Beas River and later died in BC in Babylon the city of Mesopotamia that he had planned to establish as his empires capital Alexanders death left unexecuted an additional series of planned military and mercantile campaigns that would have begun with a Greek invasion of Arabia In the years following his death a series of civil wars broke out across the Macedonian Empire eventually leading to its disintegration at the hands of the Diadochi\n",
      "\n",
      "\u001b[1mEducation\u001b[0m\n",
      "With his death marking the start of the Hellenistic period Alexanders legacy includes the cultural diffusion and syncretism that his conquests engendered such as GrecoBuddhism and Hellenistic Judaism He founded more than twenty cities with the most prominent being the city of Alexandria in Egypt Alexanders settlement of Greek colonists and the resulting spread of Greek culture led to the overwhelming dominance of Hellenistic civilization and influence as far east as the Indian subcontinent The Hellenistic period developed through the Roman Empire into modern Western culture the Greek language became the lingua franca of the region and was the predominant language of the Byzantine Empire up until its collapse in the midth century AD Greekspeaking communities in central Anatolia and in fareastern Anatolia survived until the Greek genocide and GreekTurkish population exchanges of the early th century AD Alexander became legendary as a classical hero in the mould of Achilles featuring prominently in the historical and mythical traditions of both Greek and nonGreek cultures His military achievements and unprecedented enduring successes in battle made him the measure against which many later military leaders would compare themselvesc and his tactics remain a significant subject of study in military academies worldwide\n",
      "\n",
      "\u001b[1mHeir of Philip II\u001b[0m\n",
      "Alexander III was born in Pella the capital of the Kingdom of Macedon on the sixth day of the ancient Greek month of Hekatombaion which probably corresponds to July BC  He was the son of the erstwhile king of Macedon Philip II and his fourth wife Olympias Note  Although Philip had seven or eight wives Olympias was his principal wife for some time likely because she gave birth to Alexander\n",
      "\n",
      "\u001b[1mRegency and ascent of Macedon\u001b[0m\n",
      "Several legends surround Alexanders birth and childhood According to the ancient Greek biographer Plutarch on the eve of the consummation of her marriage to Philip Olympias dreamed that her womb was struck by a thunderbolt that caused a flame to spread far and wide before dying away Sometime after the wedding Philip is said to have seen himself in a dream securing his wifes womb with a seal engraved with a lions image Plutarch offered a variety of interpretations for these dreams that Olympias was pregnant before her marriage indicated by the sealing of her womb or that Alexanders father was Zeus Ancient commentators were divided about whether the ambitious Olympias promulgated the story of Alexanders divine parentage variously claiming that she had told Alexander or that she dismissed the suggestion as impious\n",
      "\n",
      "\u001b[1mExile and return\u001b[0m\n",
      "On the day Alexander was born Philip was preparing a siege on the city of Potidea on the peninsula of Chalcidice That same day Philip received news that his general Parmenion had defeated the combined Illyrian and Paeonian armies and that his horses had won at the Olympic Games It was also said that on this day the Temple of Artemis in Ephesus one of the Seven Wonders of the World burnt down This led Hegesias of Magnesia to say that it had burnt down because Artemis was away attending the birth of Alexander Such legends may have emerged when Alexander was king and possibly at his instigation to show that he was superhuman and destined for greatness from conception\n",
      "\n",
      "\u001b[1mKing of Macedon\u001b[0m\n",
      "In his early years Alexander was raised by a nurse Lanike sister of Alexanders future general Cleitus the Black Later in his childhood Alexander was tutored by the strict Leonidas a relative of his mother and by Lysimachus of Acarnania Alexander was raised in the manner of noble Macedonian youths learning to read play the lyre ride fight and hunt When Alexander was ten years old a trader from Thessaly brought Philip a horse which he offered to sell for thirteen talents The horse refused to be mounted and Philip ordered it away Alexander however detecting the horses fear of its own shadow asked to tame the horse which he eventually managed Plutarch stated that Philip overjoyed at this display of courage and ambition kissed his son tearfully declaring My boy you must find a kingdom big enough for your ambitions Macedon is too small for you and bought the horse for him Alexander named it Bucephalas meaning oxhead Bucephalas carried Alexander as far as India When the animal died  Alexander named a city after him Bucephala\n",
      "\n",
      "\u001b[1mAccession\u001b[0m\n",
      "When Alexander was  Philip began to search for a tutor and considered such academics as Isocrates and Speusippus the latter offering to resign from his stewardship of the Academy to take up the post In the end Philip chose Aristotle and provided the Temple of the Nymphs at Mieza as a classroom In return for teaching Alexander Philip agreed to rebuild Aristotles hometown of Stageira which Philip had razed and to repopulate it by buying and freeing the excitizens who were slaves or pardoning those who were in exile\n",
      "\n",
      "\u001b[1mConsolidation of power\u001b[0m\n",
      "Mieza was like a boarding school for Alexander and the children of Macedonian nobles such as Ptolemy Hephaistion and Cassander Many of these students would become his friends and future generals and are often known as the Companions Aristotle taught Alexander and his companions about medicine philosophy morals religion logic and art Under Aristotles tutelage Alexander developed a passion for the works of Homer and in particular the Iliad Aristotle gave him an annotated copy which Alexander later carried on his campaigns\n",
      "\n",
      "\u001b[1mBalkan campaign\u001b[0m\n",
      "Alexander was able to quote Euripides from memory\n",
      "\n",
      "\u001b[1mDestruction of Thebes\u001b[0m\n",
      "During his youth Alexander was also acquainted with Persian exiles at the Macedonian court who received the protection of Philip II for several years as they opposed Artaxerxes III Among them were Artabazos II and his daughter Barsine possible future mistress of Alexander who resided at the Macedonian court from to BC as well as Amminapes future satrap of Alexander or a Persian nobleman named Sisines This gave the Macedonian court a good knowledge of Persian issues and may even have influenced some of the innovations in the management of the Macedonian state\n",
      "\n",
      "\u001b[1mConquest of the Achaemenid Persian Empire\u001b[0m\n",
      "Suda writes that Anaximenes of Lampsacus was one of Alexanders teachers and that Anaximenes also accompanied Alexander on his campaigns\n",
      "\n",
      "\u001b[1mAsia Minor\u001b[0m\n",
      "At the age of  Alexanders education under Aristotle ended Philip II had waged war against the Thracians to the north which left Alexander in charge as regent and heir apparent During Philips absence the Thracian tribe of Maedi revolted against Macedonia Alexander responded quickly and drove them from their territory The territory was colonized and a city named Alexandropolis was founded\n",
      "\n",
      "\u001b[1mThe Levant and Syria\u001b[0m\n",
      "Upon Philips return Alexander was dispatched with a small force to subdue the revolts in southern Thrace Campaigning against the Greek city of Perinthus Alexander reportedly saved his fathers life Meanwhile the city of Amphissa began to work lands that were sacred to Apollo near Delphi a sacrilege that gave Philip the opportunity to further intervene in Greek affairs While Philip was occupied in Thrace Alexander was ordered to muster an army for a campaign in southern Greece Concerned that other Greek states might intervene Alexander made it look as though he was preparing to attack Illyria instead During this turmoil the Illyrians invaded Macedonia only to be repelled by Alexander\n",
      "\n",
      "\u001b[1mEgypt\u001b[0m\n",
      "Philip and his army joined his son in BC and they marched south through Thermopylae taking it after stubborn resistance from its Theban garrison They went on to occupy the city of Elatea only a few days march from both Athens and Thebes The Athenians led by Demosthenes voted to seek alliance with Thebes against Macedonia Both Athens and Philip sent embassies to win Thebess favour but Athens won the contest Philip marched on Amphissa  capturing the mercenaries sent there by Demosthenes and accepting the citys surrender Philip then returned to Elatea sending a final offer of peace to Athens and Thebes who both rejected it\n",
      "\n",
      "\u001b[1mAssyria and Babylonia\u001b[0m\n",
      "As Philip marched south his opponents blocked him near Chaeronea Boeotia During the ensuing Battle of Chaeronea Philip commanded the right wing and Alexander the left accompanied by a group of Philips trusted generals According to the ancient sources the two sides fought bitterly for some time Philip deliberately commanded his troops to retreat counting on the untested Athenian hoplites to follow thus breaking their line Alexander was the first to break the Theban lines followed by Philips generals Having damaged the enemys cohesion Philip ordered his troops to press forward and quickly routed them With the Athenians lost the Thebans were surrounded Left to fight alone they were defeated\n",
      "\n",
      "\u001b[1mPersia\u001b[0m\n",
      "After the victory at Chaeronea Philip and Alexander marched unopposed into the Peloponnese welcomed by all cities however when they reached Sparta they were refused but did not resort to war At Corinth Philip established a Hellenic Alliance  which included most Greek citystates except Sparta Philip was then named Hegemon  of this league  and announced his plans to attack the Persian Empire\n",
      "\n",
      "\u001b[1mFall of the Persian Empire and the East\u001b[0m\n",
      "When Philip returned to Pella he fell in love with and married Cleopatra Eurydice in BC the niece of his general Attalus The marriage made Alexanders position as heir less secure since any son of Cleopatra Eurydice would be a fully Macedonian heir while Alexander was only halfMacedonian During the wedding banquet a drunken Attalus publicly prayed to the gods that the union would produce a legitimate heir\n",
      "\n",
      "\u001b[1mProblems and plots\u001b[0m\n",
      "At the wedding of Cleopatra whom Philip fell in love with and married she being much too young for him her uncle Attalus in his drink desired the Macedonians would implore the gods to give them a lawful successor to the kingdom by his niece This so irritated Alexander that throwing one of the cups at his head You villain said he what am I then a bastard Then Philip taking Attaluss part rose up and would have run his son through but by good fortune for them both either his overhasty rage or the wine he had drunk made his foot slip so that he fell down on the floor At which Alexander reproachfully insulted over him See there said he the man who makes preparations to pass out of Europe into Asia overturned in passing from one seat to another\n",
      "\n",
      "\u001b[1mMacedon in Alexander's absence\u001b[0m\n",
      "In BC Alexander fled Macedon with his mother dropping her off with her brother King Alexander I of Epirus in Dodona capital of the Molossians He continued to Illyria where he sought refuge with one or more Illyrian kings perhaps with Glaucias and was treated as a guest despite having defeated them in battle a few years before However it appears Philip never intended to disown his politically and militarily trained son Accordingly Alexander returned to Macedon after six months due to the efforts of a family friend Demaratus who mediated between the two parties\n",
      "\n",
      "\u001b[1mCoinage\u001b[0m\n",
      "In the following year the Persian satrap  of Caria Pixodarus offered his eldest daughter to Alexanders halfbrother Philip Arrhidaeus Olympias and several of Alexanders friends suggested this showed Philip intended to make Arrhidaeus his heir Alexander reacted by sending an actor Thessalus of Corinth to tell Pixodarus that he should not offer his daughters hand to an illegitimate son but instead to Alexander When Philip heard of this he stopped the negotiations and scolded Alexander for wishing to marry the daughter of a Carian explaining that he wanted a better bride for him Philip exiled four of Alexanders friends Harpalus Nearchus Ptolemy and Erigyius and had the Corinthians bring Thessalus to him in chains\n",
      "\n",
      "\u001b[1mIndian campaign\u001b[0m\n",
      "In summer BC while at Aegae attending the wedding of his daughter Cleopatra to Olympiass brother Alexander I of Epirus Philip was assassinated by the captain of his bodyguards Pausaniase As Pausanias tried to escape he tripped over a vine and was killed by his pursuers including two of Alexanders companions Perdiccas and Leonnatus Alexander was proclaimed king on the spot by the nobles and army at the age of\n",
      "\n",
      "\u001b[1mForays into the Indian subcontinent\u001b[0m\n",
      "Alexander began his reign by eliminating potential rivals to the throne He had his cousin the former Amyntas IV executed He also had two Macedonian princes from the region of Lyncestis killed for having been involved in his fathers assassination but spared a third Alexander Lyncestes Olympias had Cleopatra Eurydice and Europa her daughter by Philip burned alive When Alexander learned about this he was furious Alexander also ordered the murder of Attalus who was in command of the advance guard of the army in Asia Minor and Cleopatras uncle\n",
      "\n",
      "\u001b[1mRevolt of the Hellenic army\u001b[0m\n",
      "Attalus was at that time corresponding with Demosthenes regarding the possibility of defecting to Athens Attalus also had severely insulted Alexander and following Cleopatras murder Alexander may have considered him too dangerous to be left alive Alexander spared Arrhidaeus who was by all accounts mentally disabled possibly as a result of poisoning by Olympias\n",
      "\n",
      "\u001b[1mLast years in Persia\u001b[0m\n",
      "News of Philips death roused many states into revolt including Thebes Athens Thessaly and the Thracian tribes north of Macedon When news of the revolts reached Alexander he responded quickly Though advised to use diplomacy Alexander mustered  Macedonian cavalry and rode south towards Thessaly He found the Thessalian army occupying the pass between Mount Olympus and Mount Ossa and ordered his men to ride over Mount Ossa When the Thessalians awoke the next day they found Alexander in their rear and promptly surrendered adding their cavalry to Alexanders force He then continued south towards the Peloponnese\n",
      "\n",
      "\u001b[1mDeath and succession\u001b[0m\n",
      "Alexander stopped at Thermopylae where he was recognized as the leader of the Amphictyonic League before heading south to Corinth Athens sued for peace and Alexander pardoned the rebels The famous encounter between Alexander and Diogenes the Cynic occurred during Alexanders stay in Corinth When Alexander asked Diogenes what he could do for him the philosopher disdainfully asked Alexander to stand a little to the side as he was blocking the sunlight This reply apparently delighted Alexander who is reported to have said But verily if I were not Alexander I would like to be Diogenes At Corinth Alexander took the title of Hegemon  and like Philip was appointed commander for the coming war against Persia He also received news of a Thracian uprising\n",
      "\n",
      "\u001b[1mPost-death events\u001b[0m\n",
      "Before crossing to Asia Alexander wanted to safeguard his northern borders In the spring of BC he advanced to suppress several revolts Starting from Amphipolis he travelled east into the country of the Independent Thracians and at Mount Haemus the Macedonian army attacked and defeated the Thracian forces manning the heights The Macedonians marched into the country of the Triballi and defeated their army near the Lyginus river  Alexander then marched for three days to the Danube encountering the Getae tribe on the opposite shore Crossing the river at night he surprised them and forced their army to retreat after the first cavalry skirmish\n",
      "\n",
      "\u001b[1mDivision of the Macedonian Empire\u001b[0m\n",
      "News then reached Alexander that the Illyrian chieftain Cleitus and King Glaukias of the Taulantii were in open revolt against his authority Marching west into Illyria Alexander defeated each in turn forcing the two rulers to flee with their troops With these victories he secured his northern frontier\n",
      "\n",
      "\u001b[1mLast plans\u001b[0m\n",
      "While Alexander campaigned north the Thebans and Athenians rebelled once again Alexander immediately headed south While the other cities again hesitated Thebes decided to fight The Theban resistance was ineffective and Alexander razed the city and divided its territory between the other Boeotian cities The end of Thebes cowed Athens leaving all of Greece temporarily at peace Alexander then set out on his Asian campaign leaving Antipater as regent\n",
      "\n",
      "\u001b[1mCharacter\u001b[0m\n",
      "After his victory at the Battle of Chaeronea  Philip II began the work of establishing himself as hēgemṓn  of a league which according to Diodorus was to wage a campaign against the Persians for the sundry grievances Greece suffered in and free the Greek cities of the western coast and islands from Achaemenid rule In he sent Parmenion with Amyntas Andromenes and Attalus and an army of  men into Anatolia to make preparations for an invasion At first all went well The Greek cities on the western coast of Anatolia revolted until the news arrived that Philip had been murdered and had been succeeded by his young son Alexander The Macedonians were demoralized by Philips death and were subsequently defeated near Magnesia by the Achaemenids under the command of the mercenary Memnon of Rhodes\n",
      "\n",
      "\u001b[1mGeneralship\u001b[0m\n",
      "Taking over the invasion project of Philip II Alexanders army crossed the Hellespont in BC with approximately  soldiers  cavalry and a fleet of ships with crews numbering  drawn from Macedon and various Greek citystates mercenaries and feudally raised soldiers from Thrace Paionia and Illyriaf He showed his intent to conquer the entirety of the Persian Empire by throwing a spear into Asian soil and saying he accepted Asia as a gift from the gods This also showed Alexanders eagerness to fight in contrast to his fathers preference for diplomacy\n",
      "\n",
      "\u001b[1mPhysical appearance\u001b[0m\n",
      "After an initial victory against Persian forces at the Battle of the Granicus Alexander accepted the surrender of the Persian provincial capital and treasury of Sardis he then proceeded along the Ionian coast granting autonomy and democracy to the cities Miletus held by Achaemenid forces required a delicate siege operation with Persian naval forces nearby Further south at Halicarnassus in Caria Alexander successfully waged his first largescale siege eventually forcing his opponents the mercenary captain Memnon of Rhodes and the Persian satrap of Caria Orontobates to withdraw by sea Alexander left the government of Caria to a member of the Hecatomnid dynasty Ada who adopted Alexander\n",
      "\n",
      "\u001b[1mPersonality\u001b[0m\n",
      "From Halicarnassus Alexander proceeded into mountainous Lycia and the Pamphylian plain asserting control over all coastal cities to deny the Persians naval bases From Pamphylia onwards the coast held no major ports and Alexander moved inland At Termessos Alexander humbled but did not storm the Pisidian city At the ancient Phrygian capital of Gordium Alexander undid the hitherto unsolvable Gordian Knot a feat said to await the future king of Asia According to the story Alexander proclaimed that it did not matter how the knot was undone and hacked it apart with his sword\n",
      "\n",
      "\u001b[1mPersonal relationships\u001b[0m\n",
      "In spring BC Alexander crossed the Taurus into Cilicia After a long pause due to an illness he marched on towards Syria Though outmanoeuvered by Dariuss significantly larger army he marched back to Cilicia where he defeated Darius at Issus Darius fled the battle causing his army to collapse and left behind his wife his two daughters his mother Sisygambis and a fabulous treasure He offered a peace treaty that included the lands he had already lost and a ransom of  talents for his family Alexander replied that since he was now king of Asia it was he alone who decided territorial divisions Alexander proceeded to take possession of Syria and most of the coast of the Levant In the following year BC he was forced to attack Tyre which he captured after a long and difficult siege The men of military age were massacred and the women and children sold into slavery\n",
      "\n",
      "\u001b[1mBattle record\u001b[0m\n",
      "When Alexander destroyed Tyre most of the towns on the route to Egypt quickly capitulated However Alexander was met with resistance at Gaza The stronghold was heavily fortified and built on a hill requiring a siege When his engineers pointed out to him that because of the height of the mound it would be impossible this encouraged Alexander all the more to make the attempt After three unsuccessful assaults the stronghold fell but not before Alexander had received a serious shoulder wound As in Tyre men of military age were put to the sword and the women and children were sold into slavery\n",
      "\n",
      "\u001b[1mLegacy\u001b[0m\n",
      "Egypt was only one of a large number of territories taken by Alexander from the Persians After his trip to Siwa Alexander was crowned in the temple of Ptah at Memphis It appears that the Egyptian people did not find it disturbing that he was a foreigner  nor that he was absent for virtually his entire reign Alexander restored the temples neglected by the Persians and dedicated new monuments to the Egyptian gods In the temple of Luxor near Karnak he built a chapel for the sacred barge During his brief months in Egypt he reformed the taxation system on the Greek models and organized the military occupation of the country but early in BC he left for Asia in pursuit of the Persians\n",
      "\n",
      "\u001b[1mHellenistic kingdoms\u001b[0m\n",
      "Alexander advanced on Egypt in later BC where he was regarded as a liberator To legitimize taking power and be recognized as the descendant of the long line of pharaohs Alexander made sacrifices to the gods at Memphis and went to consult the famous oracle of AmunRa at the Siwa Oasis He was pronounced son of the deity Amun at the Oracle of Siwa Oasis in the Libyan desert Henceforth Alexander often referred to ZeusAmmon as his true father and after his death currency depicted him adorned with the Horns of Ammon as a symbol of his divinity The Greeks interpreted this message  one that the gods addressed to all pharaohs  as a prophecy\n",
      "\n",
      "\u001b[1mFounding of cities\u001b[0m\n",
      "During his stay in Egypt he founded Alexandria which would become the prosperous capital of the Ptolemaic Kingdom after his death Control of Egypt passed to Ptolemy I  the founder of the Ptolemaic Dynasty  after the death of Alexander\n",
      "\n",
      "\u001b[1mFunding of temples\u001b[0m\n",
      "Leaving Egypt in BC Alexander marched eastward into Achaemenid Assyria in Upper Mesopotamia  and defeated Darius again at the Battle of Gaugamela Darius once more fled the field and Alexander chased him as far as Arbela Gaugamela would be the final and decisive encounter between the two Darius fled over the mountains to Ecbatana  while Alexander captured Babylon\n",
      "\n",
      "\u001b[1mHellenization\u001b[0m\n",
      "Babylonian astronomical diaries say that the king of the world Alexander sent his scouts with a message to the people of Babylon before entering the city I shall not enter your houses\n",
      "\n",
      "\u001b[1mHellenization in South and Central Asia\u001b[0m\n",
      "From Babylon Alexander went to Susa one of the Achaemenid capitals and captured its treasury He sent the bulk of his army to the Persian ceremonial capital of Persepolis via the Persian Royal Road Alexander himself took selected troops on the direct route to the city He then stormed the pass of the Persian Gates  which had been blocked by a Persian army under Ariobarzanes and then hurried to Persepolis before its garrison could loot the treasury\n",
      "\n",
      "\u001b[1mInfluence on Rome\u001b[0m\n",
      "On entering Persepolis Alexander allowed his troops to loot the city for several days Alexander stayed in Persepolis for five months During his stay a fire broke out in the eastern palace of Xerxes I and spread to the rest of the city Possible causes include a drunken accident or deliberate revenge for the burning of the Acropolis of Athens during the Second Persian War by Xerxes Plutarch and Diodorus allege that Alexanders companion the hetaera Thaïs instigated and started the fire Even as he watched the city burn Alexander immediately began to regret his decision Plutarch claims that he ordered his men to put out the fires but that the flames had already spread to most of the city Curtius claims that Alexander did not regret his decision until the next morning Plutarch recounts an anecdote in which Alexander pauses and talks to a fallen statue of Xerxes as if it were a live person\n",
      "\n",
      "\u001b[1mLetters\u001b[0m\n",
      "Shall I pass by and leave you lying there because of the expeditions you led against Greece or shall I set you up again because of your magnanimity and your virtues in other respects\n",
      "\n",
      "\u001b[1mIn legend\u001b[0m\n",
      "Alexander then chased Darius first into Media and then Parthia The Persian king no longer controlled his own destiny and was taken prisoner by Bessus his Bactrian satrap and kinsman As Alexander approached Bessus had his men fatally stab the Great King and then declared himself Dariuss successor as Artaxerxes V before retreating into Central Asia to launch a guerrilla campaign against Alexander Alexander buried Dariuss remains next to his Achaemenid predecessors in a regal funeral He claimed that while dying Darius had named him as his successor to the Achaemenid throne The Achaemenid Empire is normally considered to have fallen with Darius However as basic forms of community life and the general structure of government were maintained and resuscitated by Alexander under his own rule he in the words of the Iranologist Pierre Briant may therefore be considered to have acted in many ways as the last of the Achaemenids\n",
      "\n",
      "\u001b[1mIn ancient and modern culture\u001b[0m\n",
      "Alexander viewed Bessus as a usurper and set out to defeat him This campaign initially against Bessus turned into a grand tour of central Asia Alexander founded a series of new cities all called Alexandria including modern Kandahar in Afghanistan and Alexandria Eschate  in modern Tajikistan The campaign took Alexander through Media Parthia Aria  Drangiana Arachosia  Bactria  and Scythia\n",
      "\n",
      "\u001b[1mHistoriography\u001b[0m\n",
      "In BC Spitamenes who held an undefined position in the satrapy of Sogdiana betrayed Bessus to Ptolemy one of Alexanders trusted companions and Bessus was executed However when at some point later Alexander was on the Jaxartes dealing with an incursion by a horse nomad army Spitamenes raised Sogdiana in revolt Alexander personally defeated the Scythians at the Battle of Jaxartes and immediately launched a campaign against Spitamenes defeating him in the Battle of Gabai After the defeat Spitamenes was killed by his own men who then sued for peace\n",
      "\n",
      "\u001b[1mSee also\u001b[0m\n",
      "During this time Alexander adopted some elements of Persian dress and customs at his court notably the custom of proskynesis either a symbolic kissing of the hand or prostration on the ground that Persians showed to their social superiors This was one aspect of Alexanders broad strategy aimed at securing the aid and support of the Iranian upper classes The Greeks however regarded the gesture of proskynesis as the province of deities and believed that Alexander meant to deify himself by requiring it This cost him the sympathies of many of his countrymen and he eventually abandoned it\n",
      "\n",
      "\u001b[1mReferences\u001b[0m\n",
      "During the long rule of the Achaemenids the elite positions in many segments of the empire including the central government the army and the many satrapies were specifically reserved for Iranians and to a major degree Persian noblemen The latter were in many cases additionally connected through marriage alliances with the royal Achaemenid family This created a problem for Alexander as to whether he had to make use of the various segments and people that had given the empire its solidity and unity for a lengthy period of time Pierre Briant explains that Alexander realized that it was insufficient to merely exploit the internal contradictions within the imperial system as in Asia Minor Babylonia or Egypt he also had to create a central government with or without the support of the Iranians As early as BC he demonstrated awareness of this when he challenged incumbent King Darius III by appropriating the main elements of the Achaemenid monarchys ideology particularly the theme of the king who protects the lands and the peasants Alexander wrote a letter in BC to Darius III wherein he argued that he was worthier than Darius to succeed to the Achaemenid throne However Alexanders eventual decision to burn the Achaemenid palace at Persepolis in conjunction with the major rejection and opposition of the entire Persian people made it impracticable for him to pose himself as Darius legitimate successor Against Bessus  however Briant adds Alexander reasserted his claim to legitimacy as the avenger of Darius III\n",
      "\n",
      "\u001b[1mNotes\u001b[0m\n",
      "A plot against his life was revealed and one of his officers Philotas was executed for failing to alert Alexander The death of the son necessitated the death of the father and thus Parmenion who had been charged with guarding the treasury at Ecbatana was assassinated at Alexanders command to prevent attempts at vengeance Most infamously Alexander personally killed the man who had saved his life at Granicus Cleitus the Black during a violent drunken altercation at Maracanda  in which Cleitus accused Alexander of several judgmental mistakes and most especially of having forgotten the Macedonian ways in favour of a corrupt oriental lifestyle\n",
      "\n",
      "\u001b[1mCitations\u001b[0m\n",
      "Later in the Central Asian campaign a second plot against his life was revealed this one instigated by his own royal pages His official historian Callisthenes of Olynthus was implicated in the plot and in the Anabasis of Alexander Arrian states that Callisthenes and the pages were then tortured on the rack as punishment and likely died soon after It remains unclear if Callisthenes was actually involved in the plot for prior to his accusation he had fallen out of favour by leading the opposition to the attempt to introduce proskynesis\n",
      "\n",
      "\u001b[1mSources\u001b[0m\n",
      "When Alexander set out for Asia he left his general Antipater an experienced military and political leader and part of Philip IIs Old Guard in charge of Macedon Alexanders sacking of Thebes ensured that Greece remained quiet during his absence The one exception was a call to arms by Spartan king Agis III in BC whom Antipater defeated and killed in the battle of Megalopolis Antipater referred the Spartans punishment to the League of Corinth which then deferred to Alexander who chose to pardon them There was also considerable friction between Antipater and Olympias and each complained to Alexander about the other\n",
      "\n",
      "\u001b[1mPrimary sources\u001b[0m\n",
      "In general Greece enjoyed a period of peace and prosperity during Alexanders campaign in Asia Alexander sent back vast sums from his conquest which stimulated the economy and increased trade across his empire However Alexanders constant demands for troops and the migration of Macedonians throughout his empire depleted Macedons strength greatly weakening it in the years after Alexander and ultimately led to its subjugation by Rome after the Third Macedonian War\n",
      "\n",
      "\u001b[1mSecondary sources\u001b[0m\n",
      "The conquest by Philip II of Pangaeum and then of the island of Thasos between and BC brought rich gold and silver mines under Macedonian control\n",
      "\n",
      "\u001b[1mFurther reading\u001b[0m\n",
      "Alexander appears to have introduced a new coinage in Cilicia in Tarsus after the Battle of Issus in BC which went on to become the main coinage of the empire Alexander minted gold staters silver tetradrachms and drachims and various fractional bronze coins The types of these coins remained constant in his empire The gold series had the head of Athena on the obverse and a winged Nike  on the reverse The silver coinage had a beardless head of Heracles wearing a lionskin headdress on the obverse and Zeus aetophoros  enthroned with a scepter in his left hand on the reverse There are both Greek and nonGreek aspects to this design Heracles and Zeus were important deities for the Macedonians with Heracles considered to be the ancestor of the Temenid dynasty and Zeus the patron of the main Macedonian sanctuary Dium However the lion was also the symbolic animal of the Anatolian god Sandas worshipped at Tarsus The reverse design of Alexanders tetradrachms is closely modelled on the depiction of the god Baaltars  on the silver staters minted at Tarsus by the Persian satrap Mazaeus before Alexanders conquest\n",
      "\n",
      "\u001b[1mExternal links\u001b[0m\n",
      "Alexander did not attempt to impose uniform imperial coinage throughout his new conquests Persian coins continued to circulate in all the satrapies of the empire\n",
      "\n"
     ]
    }
   ],
   "source": [
    "# Print section headings and summaries with headings in bold\n",
    "for heading, summary in section_headings_and_summaries.items():\n",
    "    print(f\"\\033[1m{heading}\\033[0m\")  # \\033[1m sets bold, \\033[0m resets formatting\n",
    "    print(summary)\n",
    "    print()"
   ]
  },
  {
   "cell_type": "raw",
   "id": "eae28987",
   "metadata": {},
   "source": [
    "Thank You!!!!"
   ]
  }
 ],
 "metadata": {
  "kernelspec": {
   "display_name": "Python 3 (ipykernel)",
   "language": "python",
   "name": "python3"
  },
  "language_info": {
   "codemirror_mode": {
    "name": "ipython",
    "version": 3
   },
   "file_extension": ".py",
   "mimetype": "text/x-python",
   "name": "python",
   "nbconvert_exporter": "python",
   "pygments_lexer": "ipython3",
   "version": "3.9.12"
  }
 },
 "nbformat": 4,
 "nbformat_minor": 5
}
